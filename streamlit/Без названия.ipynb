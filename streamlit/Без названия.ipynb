{
 "cells": [
  {
   "cell_type": "code",
   "execution_count": 2,
   "id": "05f7f35c",
   "metadata": {},
   "outputs": [
    {
     "name": "stdout",
     "output_type": "stream",
     "text": [
      "1 - добавление\n",
      "2 - получение\n",
      "> 1\n",
      "Name\n",
      "> 2\n",
      "Surname\n",
      "> 2\n"
     ]
    }
   ],
   "source": [
    "import sqlite3 as sql\n",
    "\n",
    "print(\"1 - добавление\\n2 - получение\")\n",
    "choice = int(input(\"> \"))\n",
    "con = sql.connect('test.db')\n",
    "with con:\n",
    "    cur = con.cursor()\n",
    "    cur.execute(\"CREATE TABLE IF NOT EXISTS `test` (`name` STRING, `surname` STRING)\")\n",
    "\n",
    "    if choice == 1:\n",
    "        name = input(\"Name\\n> \")\n",
    "        surname = input(\"Surname\\n> \")\n",
    "        cur.execute(f\"INSERT INTO `test` VALUES ('{name}', '{surname}')\")\n",
    "    elif choice == 2:\n",
    "        cur.execute(\"SELECT * FROM `test`\")\n",
    "        rows = cur.fetchall()\n",
    "        for row in rows:\n",
    "            print(row[0], row[1])\n",
    "    else:\n",
    "        print(\"Вы ошиблись\")\n",
    "\n",
    "    con.commit()\n",
    "    cur.close()"
   ]
  },
  {
   "cell_type": "code",
   "execution_count": 36,
   "id": "0b19f700",
   "metadata": {},
   "outputs": [],
   "source": [
    "import sqlite3\n",
    "con = sqlite3.connect(\"DB/Credit.db\")\n",
    "cur = con.cursor()\n",
    "# cur.execute(\"CREATE TABLE credits(title, date_of_deal, body_of_credit, raid, number_of_periods, last_payment, monthly_payment)\")"
   ]
  },
  {
   "cell_type": "code",
   "execution_count": 2,
   "id": "d7d3f9bd",
   "metadata": {},
   "outputs": [],
   "source": [
    "cur = con.cursor()"
   ]
  },
  {
   "cell_type": "code",
   "execution_count": 17,
   "id": "6d2b269b",
   "metadata": {},
   "outputs": [
    {
     "data": {
      "text/plain": [
       "<sqlite3.Cursor at 0x7fafb7ff2810>"
      ]
     },
     "execution_count": 17,
     "metadata": {},
     "output_type": "execute_result"
    }
   ],
   "source": [
    "cur.execute(\"CREATE TABLE testing(user, title)\")"
   ]
  },
  {
   "cell_type": "code",
   "execution_count": 20,
   "id": "27b44d81",
   "metadata": {},
   "outputs": [
    {
     "data": {
      "text/plain": [
       "[('u1', 1), ('u2', 2), ('u3', 3)]"
      ]
     },
     "execution_count": 20,
     "metadata": {},
     "output_type": "execute_result"
    }
   ],
   "source": [
    "res = cur.execute(\"SELECT * FROM testing\")\n",
    "res.fetchall()"
   ]
  },
  {
   "cell_type": "code",
   "execution_count": 22,
   "id": "25ffcaf4",
   "metadata": {},
   "outputs": [],
   "source": [
    "cur.execute(\"\"\"\n",
    "    INSERT INTO testing VALUES\n",
    "        ('u1', 1),\n",
    "        ('u2', 2),\n",
    "        ('u3', 3)\n",
    "\"\"\")\n",
    "con.commit()"
   ]
  },
  {
   "cell_type": "code",
   "execution_count": 58,
   "id": "fe455006",
   "metadata": {},
   "outputs": [
    {
     "name": "stdout",
     "output_type": "stream",
     "text": [
      "[('Ivan', 'ipoteca_1', '2022-10-09 00:00:00', 1000000, 5.0, 50, '2026-12-09 00:00:00', 22197.11), ('Ivan', 'Ipoteca_3', '2022-10-12 00:00:00', 2000000000, 5.0, 900, '2097-10-12 00:00:00', 8535642.44)]\n"
     ]
    }
   ],
   "source": [
    "res = cur.execute(\"SELECT * FROM credits\")\n",
    "res = res.fetchall()\n",
    "print(res)"
   ]
  },
  {
   "cell_type": "code",
   "execution_count": 15,
   "id": "6bdf37a9",
   "metadata": {},
   "outputs": [
    {
     "data": {
      "text/plain": [
       "<sqlite3.Cursor at 0x7fafb7ff2810>"
      ]
     },
     "execution_count": 15,
     "metadata": {},
     "output_type": "execute_result"
    }
   ],
   "source": [
    "cur.execute(\"DROP TABLE testing\")"
   ]
  },
  {
   "cell_type": "code",
   "execution_count": 38,
   "id": "ce0a31e9",
   "metadata": {},
   "outputs": [],
   "source": [
    "res = cur.execute(\"DELETE FROM credits WHERE title = 'ipoteca_2'\")\n",
    "con.commit()"
   ]
  },
  {
   "cell_type": "code",
   "execution_count": 12,
   "id": "15e9c371",
   "metadata": {},
   "outputs": [
    {
     "data": {
      "text/html": [
       "<div>\n",
       "<style scoped>\n",
       "    .dataframe tbody tr th:only-of-type {\n",
       "        vertical-align: middle;\n",
       "    }\n",
       "\n",
       "    .dataframe tbody tr th {\n",
       "        vertical-align: top;\n",
       "    }\n",
       "\n",
       "    .dataframe thead th {\n",
       "        text-align: right;\n",
       "    }\n",
       "</style>\n",
       "<table border=\"1\" class=\"dataframe\">\n",
       "  <thead>\n",
       "    <tr style=\"text-align: right;\">\n",
       "      <th></th>\n",
       "      <th>title</th>\n",
       "      <th>year</th>\n",
       "      <th>score</th>\n",
       "    </tr>\n",
       "  </thead>\n",
       "  <tbody>\n",
       "    <tr>\n",
       "      <th>0</th>\n",
       "      <td>Monty Python and the Holy Grail</td>\n",
       "      <td>1975</td>\n",
       "      <td>8.2</td>\n",
       "    </tr>\n",
       "    <tr>\n",
       "      <th>1</th>\n",
       "      <td>And Now for Something Completely Different</td>\n",
       "      <td>1971</td>\n",
       "      <td>7.5</td>\n",
       "    </tr>\n",
       "  </tbody>\n",
       "</table>\n",
       "</div>"
      ],
      "text/plain": [
       "                                        title  year  score\n",
       "0             Monty Python and the Holy Grail  1975    8.2\n",
       "1  And Now for Something Completely Different  1971    7.5"
      ]
     },
     "execution_count": 12,
     "metadata": {},
     "output_type": "execute_result"
    }
   ],
   "source": [
    "import pandas as pd\n",
    "df = pd.DataFrame(res, columns = ['title', 'year', 'score'])\n",
    "df.head()"
   ]
  },
  {
   "cell_type": "code",
   "execution_count": 5,
   "id": "6e91b111",
   "metadata": {},
   "outputs": [
    {
     "ename": "NameError",
     "evalue": "name 'name_of_credit' is not defined",
     "output_type": "error",
     "traceback": [
      "\u001b[0;31m---------------------------------------------------------------------------\u001b[0m",
      "\u001b[0;31mNameError\u001b[0m                                 Traceback (most recent call last)",
      "Input \u001b[0;32mIn [5]\u001b[0m, in \u001b[0;36m<cell line: 1>\u001b[0;34m()\u001b[0m\n\u001b[1;32m      1\u001b[0m cur\u001b[38;5;241m.\u001b[39mexecute(\u001b[38;5;124mf\u001b[39m\u001b[38;5;124m\"\"\"\u001b[39m\u001b[38;5;124mINSERT INTO credits VALUES\u001b[39m\n\u001b[0;32m----> 2\u001b[0m \u001b[38;5;124m            (\u001b[39m\u001b[38;5;132;01m{\u001b[39;00mname_of_credit\u001b[38;5;132;01m}\u001b[39;00m\u001b[38;5;124m, \u001b[39m\u001b[38;5;132;01m{\u001b[39;00mbegin\u001b[38;5;132;01m}\u001b[39;00m\u001b[38;5;124m, \u001b[39m\u001b[38;5;132;01m{\u001b[39;00mbody_of_credit\u001b[38;5;132;01m}\u001b[39;00m\u001b[38;5;124m, \u001b[39m\u001b[38;5;132;01m{\u001b[39;00mraid\u001b[38;5;132;01m}\u001b[39;00m\u001b[38;5;124m, \u001b[39m\u001b[38;5;132;01m{\u001b[39;00mnumber_of_periods\u001b[38;5;132;01m}\u001b[39;00m\u001b[38;5;124m, \u001b[39m\u001b[38;5;132;01m{\u001b[39;00mst\u001b[38;5;241m.\u001b[39msession_state\u001b[38;5;241m.\u001b[39mlast_payment\u001b[38;5;132;01m}\u001b[39;00m\u001b[38;5;124m, \u001b[39m\u001b[38;5;132;01m{\u001b[39;00mst\u001b[38;5;241m.\u001b[39msession_state\u001b[38;5;241m.\u001b[39mmonthly_payment\u001b[38;5;132;01m}\u001b[39;00m\u001b[38;5;124m)\u001b[39m\n\u001b[1;32m      3\u001b[0m \u001b[38;5;124m\"\"\"\u001b[39m)\n\u001b[1;32m      4\u001b[0m con\u001b[38;5;241m.\u001b[39mcommit()\n",
      "\u001b[0;31mNameError\u001b[0m: name 'name_of_credit' is not defined"
     ]
    }
   ],
   "source": [
    "cur.execute(f\"\"\"INSERT INTO credits VALUES\n",
    "            ({name_of_credit}, {begin}, {body_of_credit}, {raid}, {number_of_periods}, {st.session_state.last_payment}, {st.session_state.monthly_payment})\n",
    "\"\"\")\n",
    "con.commit()"
   ]
  },
  {
   "cell_type": "code",
   "execution_count": 4,
   "id": "7bda1aad",
   "metadata": {},
   "outputs": [],
   "source": [
    "tuples = ('Ипотека_22', '2022-09-05', 11879039, 5.7, 360, 2038, 68945.99)\n",
    "def insert_to_db(cur, con, tuples):\n",
    "    str_to_insert = f\"INSERT INTO credits VALUES {tuples} \"\n",
    "    cur.execute(str_to_insert)\n",
    "    con.commit()\n",
    "insert_to_db(cur, con, tuples)"
   ]
  },
  {
   "cell_type": "code",
   "execution_count": 6,
   "id": "0b1c60a8",
   "metadata": {},
   "outputs": [
    {
     "data": {
      "text/html": [
       "<div>\n",
       "<style scoped>\n",
       "    .dataframe tbody tr th:only-of-type {\n",
       "        vertical-align: middle;\n",
       "    }\n",
       "\n",
       "    .dataframe tbody tr th {\n",
       "        vertical-align: top;\n",
       "    }\n",
       "\n",
       "    .dataframe thead th {\n",
       "        text-align: right;\n",
       "    }\n",
       "</style>\n",
       "<table border=\"1\" class=\"dataframe\">\n",
       "  <thead>\n",
       "    <tr style=\"text-align: right;\">\n",
       "      <th></th>\n",
       "      <th>title</th>\n",
       "      <th>date_of_deal</th>\n",
       "      <th>body_of_credit</th>\n",
       "      <th>raid</th>\n",
       "      <th>number_of_periods</th>\n",
       "      <th>last_payment</th>\n",
       "      <th>monthly_payment</th>\n",
       "    </tr>\n",
       "  </thead>\n",
       "  <tbody>\n",
       "    <tr>\n",
       "      <th>0</th>\n",
       "      <td>Ипотека_ЦДС</td>\n",
       "      <td>2022-09-05</td>\n",
       "      <td>11879039</td>\n",
       "      <td>5.7</td>\n",
       "      <td>360</td>\n",
       "      <td>2038</td>\n",
       "      <td>68945.99</td>\n",
       "    </tr>\n",
       "  </tbody>\n",
       "</table>\n",
       "</div>"
      ],
      "text/plain": [
       "         title date_of_deal  body_of_credit  raid  number_of_periods  \\\n",
       "0  Ипотека_ЦДС   2022-09-05        11879039   5.7                360   \n",
       "\n",
       "   last_payment  monthly_payment  \n",
       "0          2038         68945.99  "
      ]
     },
     "execution_count": 6,
     "metadata": {},
     "output_type": "execute_result"
    }
   ],
   "source": [
    "import pandas as pd\n",
    "title = ['title', 'date_of_deal', 'body_of_credit', 'raid', 'number_of_periods', 'last_payment', 'monthly_payment']\n",
    "pd.DataFrame(cur.execute(\"SELECT * FROM credits\").fetchall(), columns = title).head()"
   ]
  },
  {
   "cell_type": "code",
   "execution_count": 54,
   "id": "8b92d06f",
   "metadata": {},
   "outputs": [],
   "source": [
    "import pandas as pd\n",
    "import datetime as dt\n",
    "pd.options.display.float_format = '{:.2f}'.format\n",
    "from dateutil.relativedelta import *\n",
    "last_payment = dt.datetime(2052, 9, 5)\n",
    "date_now = dt.datetime(2022, 9, 5)\n",
    "number_of_periods = (last_payment.year - date_now.year) * 12 + last_payment.month - date_now.month\n",
    "body_credit = 11879039\n",
    "raid = 5.7\n",
    "monthly_raid = raid / 12 / 100\n",
    "general_raid = (1 + monthly_raid) ** number_of_periods\n",
    "monthly_payment = body_credit * monthly_raid * general_raid / (general_raid - 1)\n",
    "\n",
    "\n",
    "def calc(date_now, body_credit, raid):\n",
    "    df = []\n",
    "    for month in range(0, 360):\n",
    "        begin = dt.datetime(date_now.year, date_now.month, 5) + relativedelta(months=+month)\n",
    "        intermediate_date = dt.datetime(date_now.year, date_now.month, 1) + relativedelta(months=+(month+1)) - relativedelta(days = 1)\n",
    "        end = dt.datetime(date_now.year, date_now.month, 5) + relativedelta(months=+(month+1))\n",
    "\n",
    "        number_of_days1 = (intermediate_date - begin).days\n",
    "        number_of_days2 = (end - intermediate_date).days\n",
    "        number_of_days_in_year1 = (dt.datetime(int(begin.year)+1, 1, 1) - dt.datetime(begin.year, 1, 1)).days\n",
    "        number_of_days_in_year2 = (dt.datetime(int(end.year)+1, 1, 1) - dt.datetime(end.year, 1, 1)).days\n",
    "        percent_part = (body_credit * raid * number_of_days1)/(100*number_of_days_in_year1) + (body_credit * raid * number_of_days2)/(100*number_of_days_in_year2)\n",
    "        general_part = monthly_payment - percent_part\n",
    "        if body_credit - general_part <0:\n",
    "            general_part = body_credit\n",
    "            body_credit = 0\n",
    "        else:\n",
    "            body_credit -= general_part\n",
    "\n",
    "        df.append([end, percent_part, general_part, body_credit, number_of_days1+number_of_days2])\n",
    "    df = pd.DataFrame(df, columns = ['date_payment', 'percent_part', 'general_part', 'body_of_credit', 'days'])\n",
    "    return df\n",
    "    \n",
    "df = calc(date_now, body_credit, raid)"
   ]
  },
  {
   "cell_type": "code",
   "execution_count": 55,
   "id": "13baa7b4",
   "metadata": {},
   "outputs": [
    {
     "data": {
      "text/html": [
       "<div>\n",
       "<style scoped>\n",
       "    .dataframe tbody tr th:only-of-type {\n",
       "        vertical-align: middle;\n",
       "    }\n",
       "\n",
       "    .dataframe tbody tr th {\n",
       "        vertical-align: top;\n",
       "    }\n",
       "\n",
       "    .dataframe thead th {\n",
       "        text-align: right;\n",
       "    }\n",
       "</style>\n",
       "<table border=\"1\" class=\"dataframe\">\n",
       "  <thead>\n",
       "    <tr style=\"text-align: right;\">\n",
       "      <th></th>\n",
       "      <th>date_payment</th>\n",
       "      <th>percent_part</th>\n",
       "      <th>general_part</th>\n",
       "      <th>body_of_credit</th>\n",
       "      <th>days</th>\n",
       "    </tr>\n",
       "  </thead>\n",
       "  <tbody>\n",
       "    <tr>\n",
       "      <th>0</th>\n",
       "      <td>2022-10-05</td>\n",
       "      <td>55652.48</td>\n",
       "      <td>13293.51</td>\n",
       "      <td>11865745.49</td>\n",
       "      <td>30</td>\n",
       "    </tr>\n",
       "    <tr>\n",
       "      <th>1</th>\n",
       "      <td>2022-11-05</td>\n",
       "      <td>57443.21</td>\n",
       "      <td>11502.78</td>\n",
       "      <td>11854242.71</td>\n",
       "      <td>31</td>\n",
       "    </tr>\n",
       "    <tr>\n",
       "      <th>2</th>\n",
       "      <td>2022-12-05</td>\n",
       "      <td>55536.32</td>\n",
       "      <td>13409.68</td>\n",
       "      <td>11840833.03</td>\n",
       "      <td>30</td>\n",
       "    </tr>\n",
       "    <tr>\n",
       "      <th>3</th>\n",
       "      <td>2023-01-05</td>\n",
       "      <td>57322.61</td>\n",
       "      <td>11623.39</td>\n",
       "      <td>11829209.65</td>\n",
       "      <td>31</td>\n",
       "    </tr>\n",
       "    <tr>\n",
       "      <th>4</th>\n",
       "      <td>2023-02-05</td>\n",
       "      <td>57266.34</td>\n",
       "      <td>11679.65</td>\n",
       "      <td>11817529.99</td>\n",
       "      <td>31</td>\n",
       "    </tr>\n",
       "    <tr>\n",
       "      <th>5</th>\n",
       "      <td>2023-03-05</td>\n",
       "      <td>51673.36</td>\n",
       "      <td>17272.63</td>\n",
       "      <td>11800257.36</td>\n",
       "      <td>28</td>\n",
       "    </tr>\n",
       "    <tr>\n",
       "      <th>6</th>\n",
       "      <td>2023-04-05</td>\n",
       "      <td>57126.18</td>\n",
       "      <td>11819.82</td>\n",
       "      <td>11788437.55</td>\n",
       "      <td>31</td>\n",
       "    </tr>\n",
       "    <tr>\n",
       "      <th>7</th>\n",
       "      <td>2023-05-05</td>\n",
       "      <td>55228.02</td>\n",
       "      <td>13717.97</td>\n",
       "      <td>11774719.58</td>\n",
       "      <td>30</td>\n",
       "    </tr>\n",
       "    <tr>\n",
       "      <th>8</th>\n",
       "      <td>2023-06-05</td>\n",
       "      <td>57002.55</td>\n",
       "      <td>11943.45</td>\n",
       "      <td>11762776.13</td>\n",
       "      <td>31</td>\n",
       "    </tr>\n",
       "    <tr>\n",
       "      <th>9</th>\n",
       "      <td>2023-07-05</td>\n",
       "      <td>55107.80</td>\n",
       "      <td>13838.19</td>\n",
       "      <td>11748937.94</td>\n",
       "      <td>30</td>\n",
       "    </tr>\n",
       "  </tbody>\n",
       "</table>\n",
       "</div>"
      ],
      "text/plain": [
       "  date_payment  percent_part  general_part  body_of_credit  days\n",
       "0   2022-10-05      55652.48      13293.51     11865745.49    30\n",
       "1   2022-11-05      57443.21      11502.78     11854242.71    31\n",
       "2   2022-12-05      55536.32      13409.68     11840833.03    30\n",
       "3   2023-01-05      57322.61      11623.39     11829209.65    31\n",
       "4   2023-02-05      57266.34      11679.65     11817529.99    31\n",
       "5   2023-03-05      51673.36      17272.63     11800257.36    28\n",
       "6   2023-04-05      57126.18      11819.82     11788437.55    31\n",
       "7   2023-05-05      55228.02      13717.97     11774719.58    30\n",
       "8   2023-06-05      57002.55      11943.45     11762776.13    31\n",
       "9   2023-07-05      55107.80      13838.19     11748937.94    30"
      ]
     },
     "execution_count": 55,
     "metadata": {},
     "output_type": "execute_result"
    }
   ],
   "source": [
    "df.head(10)"
   ]
  },
  {
   "cell_type": "code",
   "execution_count": 57,
   "id": "de8488b7",
   "metadata": {},
   "outputs": [
    {
     "name": "stdout",
     "output_type": "stream",
     "text": [
      "6829209.646515802\n"
     ]
    },
    {
     "data": {
      "text/html": [
       "<div>\n",
       "<style scoped>\n",
       "    .dataframe tbody tr th:only-of-type {\n",
       "        vertical-align: middle;\n",
       "    }\n",
       "\n",
       "    .dataframe tbody tr th {\n",
       "        vertical-align: top;\n",
       "    }\n",
       "\n",
       "    .dataframe thead th {\n",
       "        text-align: right;\n",
       "    }\n",
       "</style>\n",
       "<table border=\"1\" class=\"dataframe\">\n",
       "  <thead>\n",
       "    <tr style=\"text-align: right;\">\n",
       "      <th></th>\n",
       "      <th>date_payment</th>\n",
       "      <th>percent_part</th>\n",
       "      <th>general_part</th>\n",
       "      <th>body_of_credit</th>\n",
       "      <th>days</th>\n",
       "      <th>m_pay</th>\n",
       "    </tr>\n",
       "  </thead>\n",
       "  <tbody>\n",
       "    <tr>\n",
       "      <th>0</th>\n",
       "      <td>2022-10-05</td>\n",
       "      <td>55652.48</td>\n",
       "      <td>13293.51</td>\n",
       "      <td>11865745.49</td>\n",
       "      <td>30</td>\n",
       "      <td>68945.99</td>\n",
       "    </tr>\n",
       "    <tr>\n",
       "      <th>1</th>\n",
       "      <td>2022-11-05</td>\n",
       "      <td>57443.21</td>\n",
       "      <td>11502.78</td>\n",
       "      <td>11854242.71</td>\n",
       "      <td>31</td>\n",
       "      <td>68945.99</td>\n",
       "    </tr>\n",
       "    <tr>\n",
       "      <th>2</th>\n",
       "      <td>2022-12-05</td>\n",
       "      <td>55536.32</td>\n",
       "      <td>13409.68</td>\n",
       "      <td>11840833.03</td>\n",
       "      <td>30</td>\n",
       "      <td>68945.99</td>\n",
       "    </tr>\n",
       "    <tr>\n",
       "      <th>0</th>\n",
       "      <td>2023-01-05</td>\n",
       "      <td>33060.86</td>\n",
       "      <td>6575.90</td>\n",
       "      <td>6822633.74</td>\n",
       "      <td>31</td>\n",
       "      <td>39636.76</td>\n",
       "    </tr>\n",
       "    <tr>\n",
       "      <th>1</th>\n",
       "      <td>2023-02-05</td>\n",
       "      <td>33029.02</td>\n",
       "      <td>6607.74</td>\n",
       "      <td>6816026.01</td>\n",
       "      <td>31</td>\n",
       "      <td>39636.76</td>\n",
       "    </tr>\n",
       "    <tr>\n",
       "      <th>2</th>\n",
       "      <td>2023-03-05</td>\n",
       "      <td>29803.77</td>\n",
       "      <td>9832.99</td>\n",
       "      <td>6806193.02</td>\n",
       "      <td>28</td>\n",
       "      <td>39636.76</td>\n",
       "    </tr>\n",
       "    <tr>\n",
       "      <th>3</th>\n",
       "      <td>2023-04-05</td>\n",
       "      <td>32949.43</td>\n",
       "      <td>6687.33</td>\n",
       "      <td>6799505.69</td>\n",
       "      <td>31</td>\n",
       "      <td>39636.76</td>\n",
       "    </tr>\n",
       "    <tr>\n",
       "      <th>4</th>\n",
       "      <td>2023-05-05</td>\n",
       "      <td>31855.22</td>\n",
       "      <td>7781.54</td>\n",
       "      <td>6791724.14</td>\n",
       "      <td>30</td>\n",
       "      <td>39636.76</td>\n",
       "    </tr>\n",
       "    <tr>\n",
       "      <th>5</th>\n",
       "      <td>2023-06-05</td>\n",
       "      <td>32879.39</td>\n",
       "      <td>6757.37</td>\n",
       "      <td>6784966.77</td>\n",
       "      <td>31</td>\n",
       "      <td>39636.76</td>\n",
       "    </tr>\n",
       "    <tr>\n",
       "      <th>6</th>\n",
       "      <td>2023-07-05</td>\n",
       "      <td>31787.10</td>\n",
       "      <td>7849.66</td>\n",
       "      <td>6777117.11</td>\n",
       "      <td>30</td>\n",
       "      <td>39636.76</td>\n",
       "    </tr>\n",
       "  </tbody>\n",
       "</table>\n",
       "</div>"
      ],
      "text/plain": [
       "  date_payment  percent_part  general_part  body_of_credit  days    m_pay\n",
       "0   2022-10-05      55652.48      13293.51     11865745.49    30 68945.99\n",
       "1   2022-11-05      57443.21      11502.78     11854242.71    31 68945.99\n",
       "2   2022-12-05      55536.32      13409.68     11840833.03    30 68945.99\n",
       "0   2023-01-05      33060.86       6575.90      6822633.74    31 39636.76\n",
       "1   2023-02-05      33029.02       6607.74      6816026.01    31 39636.76\n",
       "2   2023-03-05      29803.77       9832.99      6806193.02    28 39636.76\n",
       "3   2023-04-05      32949.43       6687.33      6799505.69    31 39636.76\n",
       "4   2023-05-05      31855.22       7781.54      6791724.14    30 39636.76\n",
       "5   2023-06-05      32879.39       6757.37      6784966.77    31 39636.76\n",
       "6   2023-07-05      31787.10       7849.66      6777117.11    30 39636.76"
      ]
     },
     "execution_count": 57,
     "metadata": {},
     "output_type": "execute_result"
    }
   ],
   "source": [
    "#Monthly_payment -\n",
    "new_payment = 5000000\n",
    "date = dt.datetime(2022, 12, 15)\n",
    "begin = dt.datetime(2022, 9, 5)\n",
    "\n",
    "date_now = df[df['date_payment']<date].max()['date_payment']\n",
    "number_of_periods = 360\n",
    "last_payment = begin + relativedelta(months=+number_of_periods)\n",
    "\n",
    "\n",
    "body_credit = df[df['date_payment']>date].max()['body_of_credit'] - new_payment\n",
    "print(body_credit)\n",
    "raid = 5.7\n",
    "monthly_raid = raid / 12 / 100\n",
    "general_raid = (1 + monthly_raid) ** number_of_periods\n",
    "monthly_payment = body_credit * monthly_raid * general_raid / (general_raid - 1)\n",
    "\n",
    "df2 = calc(date_now, body_credit, raid)\n",
    "df2 = pd.concat([df[df['date_payment']<date], df2])\n",
    "df2['m_pay'] = df2['percent_part'] + df2['general_part']\n",
    "df2.head(10)\n",
    "\n",
    "# df2 = calc(date_now, body_credit, raid)\n",
    "# df2.head()"
   ]
  },
  {
   "cell_type": "code",
   "execution_count": 44,
   "id": "4b4d9180",
   "metadata": {},
   "outputs": [
    {
     "data": {
      "text/html": [
       "<div>\n",
       "<style scoped>\n",
       "    .dataframe tbody tr th:only-of-type {\n",
       "        vertical-align: middle;\n",
       "    }\n",
       "\n",
       "    .dataframe tbody tr th {\n",
       "        vertical-align: top;\n",
       "    }\n",
       "\n",
       "    .dataframe thead th {\n",
       "        text-align: right;\n",
       "    }\n",
       "</style>\n",
       "<table border=\"1\" class=\"dataframe\">\n",
       "  <thead>\n",
       "    <tr style=\"text-align: right;\">\n",
       "      <th></th>\n",
       "      <th>date_payment</th>\n",
       "      <th>percent_part</th>\n",
       "      <th>general_part</th>\n",
       "      <th>body_of_credit</th>\n",
       "      <th>days</th>\n",
       "    </tr>\n",
       "  </thead>\n",
       "  <tbody>\n",
       "    <tr>\n",
       "      <th>0</th>\n",
       "      <td>2022-11-05</td>\n",
       "      <td>57507.57</td>\n",
       "      <td>11511.17</td>\n",
       "      <td>11867527.83</td>\n",
       "      <td>31</td>\n",
       "    </tr>\n",
       "    <tr>\n",
       "      <th>1</th>\n",
       "      <td>2022-12-05</td>\n",
       "      <td>55598.56</td>\n",
       "      <td>13420.18</td>\n",
       "      <td>11854107.64</td>\n",
       "      <td>30</td>\n",
       "    </tr>\n",
       "  </tbody>\n",
       "</table>\n",
       "</div>"
      ],
      "text/plain": [
       "  date_payment  percent_part  general_part  body_of_credit  days\n",
       "0   2022-11-05      57507.57      11511.17     11867527.83    31\n",
       "1   2022-12-05      55598.56      13420.18     11854107.64    30"
      ]
     },
     "execution_count": 44,
     "metadata": {},
     "output_type": "execute_result"
    }
   ],
   "source": [
    "df[df['date_payment']<date].head()"
   ]
  },
  {
   "cell_type": "code",
   "execution_count": 46,
   "id": "ea52556c",
   "metadata": {},
   "outputs": [],
   "source": [
    "new_payment = 500000\n",
    "date = dt.datetime(2022, 12, 15)\n",
    "\n",
    "raid = 5.7\n",
    "monthly_raid = raid / 12 / 100\n",
    "general_raid = (1 + monthly_raid) ** number_of_periods\n",
    "monthly_payment = 68945.99\n",
    "body_credit = 11879039# - new_payment"
   ]
  },
  {
   "cell_type": "code",
   "execution_count": 47,
   "id": "34e06078",
   "metadata": {},
   "outputs": [
    {
     "name": "stdout",
     "output_type": "stream",
     "text": [
      "0.004750000000000001\n",
      "5.50662308464368\n"
     ]
    }
   ],
   "source": [
    "print(monthly_raid)\n",
    "print(general_raid)"
   ]
  },
  {
   "cell_type": "code",
   "execution_count": 48,
   "id": "bedf8902",
   "metadata": {},
   "outputs": [],
   "source": [
    "monthly_payment = body_credit * monthly_raid * general_raid / (general_raid - 1)"
   ]
  },
  {
   "cell_type": "code",
   "execution_count": 52,
   "id": "fce3d3ff",
   "metadata": {},
   "outputs": [
    {
     "data": {
      "text/plain": [
       "68945.99314672532"
      ]
     },
     "execution_count": 52,
     "metadata": {},
     "output_type": "execute_result"
    }
   ],
   "source": [
    "monthly_payment"
   ]
  },
  {
   "cell_type": "code",
   "execution_count": 49,
   "id": "667c38a7",
   "metadata": {},
   "outputs": [
    {
     "name": "stdout",
     "output_type": "stream",
     "text": [
      "310713.6043087173\n",
      "68945.99314672532\n"
     ]
    }
   ],
   "source": [
    "mp = body_credit * monthly_raid * general_raid\n",
    "print(mp)\n",
    "mp2 = mp/(general_raid - 1)\n",
    "print(mp2)"
   ]
  },
  {
   "cell_type": "code",
   "execution_count": 72,
   "id": "6692cb05",
   "metadata": {},
   "outputs": [
    {
     "data": {
      "text/plain": [
       "5.506623084643681"
      ]
     },
     "execution_count": 72,
     "metadata": {},
     "output_type": "execute_result"
    }
   ],
   "source": [
    "(310713.6043087173 / 68945.99314672532) +1"
   ]
  },
  {
   "cell_type": "code",
   "execution_count": 81,
   "id": "1679afc0",
   "metadata": {},
   "outputs": [
    {
     "name": "stdout",
     "output_type": "stream",
     "text": [
      "1.63680107429018\n"
     ]
    }
   ],
   "source": [
    "gr = (body_credit * monthly_raid)/monthly_payment\n",
    "print(gr)"
   ]
  },
  {
   "cell_type": "code",
   "execution_count": 84,
   "id": "b32a2413",
   "metadata": {},
   "outputs": [
    {
     "data": {
      "text/plain": [
       "1.2219172366461566"
      ]
     },
     "execution_count": 84,
     "metadata": {},
     "output_type": "execute_result"
    }
   ],
   "source": [
    "monthly_payment/(body_credit*monthly_raid)"
   ]
  },
  {
   "cell_type": "code",
   "execution_count": 65,
   "id": "d3fb894f",
   "metadata": {},
   "outputs": [
    {
     "data": {
      "text/plain": [
       "360.0"
      ]
     },
     "execution_count": 65,
     "metadata": {},
     "output_type": "execute_result"
    }
   ],
   "source": [
    "import math\n",
    "math.log(general_raid, (1 + monthly_raid))"
   ]
  },
  {
   "cell_type": "code",
   "execution_count": 50,
   "id": "445469f0",
   "metadata": {},
   "outputs": [
    {
     "name": "stdout",
     "output_type": "stream",
     "text": [
      "1.00475 -0.22189563698093595\n"
     ]
    },
    {
     "ename": "NameError",
     "evalue": "name 'math' is not defined",
     "output_type": "error",
     "traceback": [
      "\u001b[0;31m---------------------------------------------------------------------------\u001b[0m",
      "\u001b[0;31mNameError\u001b[0m                                 Traceback (most recent call last)",
      "Input \u001b[0;32mIn [50]\u001b[0m, in \u001b[0;36m<cell line: 4>\u001b[0;34m()\u001b[0m\n\u001b[1;32m      2\u001b[0m n2 \u001b[38;5;241m=\u001b[39m (\u001b[38;5;241m1\u001b[39m\u001b[38;5;241m-\u001b[39mmonthly_payment\u001b[38;5;241m/\u001b[39m(body_credit\u001b[38;5;241m*\u001b[39mmonthly_raid))\n\u001b[1;32m      3\u001b[0m \u001b[38;5;28mprint\u001b[39m(n1, n2)\n\u001b[0;32m----> 4\u001b[0m \u001b[43mmath\u001b[49m\u001b[38;5;241m.\u001b[39mlog(n1, n2)\n",
      "\u001b[0;31mNameError\u001b[0m: name 'math' is not defined"
     ]
    }
   ],
   "source": [
    "n1 = (1+monthly_raid)\n",
    "n2 = (1-monthly_payment/(body_credit*monthly_raid))\n",
    "print(n1, n2)\n",
    "math.log(n1, n2)"
   ]
  },
  {
   "cell_type": "code",
   "execution_count": null,
   "id": "0c60541f",
   "metadata": {},
   "outputs": [],
   "source": [
    "date_now = df[df['date_payment']<date].max()['date_payment']\n",
    "number_of_periods = 360\n",
    "last_payment = begin + relativedelta(months=+number_of_periods)\n"
   ]
  },
  {
   "cell_type": "code",
   "execution_count": null,
   "id": "d49c4a81",
   "metadata": {},
   "outputs": [],
   "source": [
    "general_raid = (1 + monthly_raid) ** number_of_periods\n",
    "monthly_payment = body_credit * monthly_raid * general_raid / (general_raid - 1)"
   ]
  },
  {
   "cell_type": "code",
   "execution_count": 22,
   "id": "fb93402c",
   "metadata": {},
   "outputs": [
    {
     "data": {
      "text/plain": [
       "360"
      ]
     },
     "execution_count": 22,
     "metadata": {},
     "output_type": "execute_result"
    }
   ],
   "source": [
    "df.to_sql('Ipoteca_CDS', con, index=False, if_exists = 'replace')#, dtype={'date_payment':BLOB, 'percent_part':float, 'general_part':float, 'body_of_credit':float, 'days':int})"
   ]
  },
  {
   "cell_type": "code",
   "execution_count": 23,
   "id": "04e2f43a",
   "metadata": {},
   "outputs": [],
   "source": [
    "res = cur.execute(\"SELECT * FROM Ipoteca_CDS\")\n",
    "res = res.fetchall()"
   ]
  },
  {
   "cell_type": "code",
   "execution_count": 25,
   "id": "f9844fab",
   "metadata": {},
   "outputs": [
    {
     "data": {
      "text/html": [
       "<div>\n",
       "<style scoped>\n",
       "    .dataframe tbody tr th:only-of-type {\n",
       "        vertical-align: middle;\n",
       "    }\n",
       "\n",
       "    .dataframe tbody tr th {\n",
       "        vertical-align: top;\n",
       "    }\n",
       "\n",
       "    .dataframe thead th {\n",
       "        text-align: right;\n",
       "    }\n",
       "</style>\n",
       "<table border=\"1\" class=\"dataframe\">\n",
       "  <thead>\n",
       "    <tr style=\"text-align: right;\">\n",
       "      <th></th>\n",
       "      <th>date_payment</th>\n",
       "      <th>percent_part</th>\n",
       "      <th>general_part</th>\n",
       "      <th>body_of_credit</th>\n",
       "      <th>days</th>\n",
       "    </tr>\n",
       "  </thead>\n",
       "  <tbody>\n",
       "    <tr>\n",
       "      <th>0</th>\n",
       "      <td>2022-10-05 00:00:00</td>\n",
       "      <td>55652.484082</td>\n",
       "      <td>13293.509065</td>\n",
       "      <td>1.186575e+07</td>\n",
       "      <td>30</td>\n",
       "    </tr>\n",
       "    <tr>\n",
       "      <th>1</th>\n",
       "      <td>2022-11-05 00:00:00</td>\n",
       "      <td>57443.211733</td>\n",
       "      <td>11502.781414</td>\n",
       "      <td>1.185424e+07</td>\n",
       "      <td>31</td>\n",
       "    </tr>\n",
       "    <tr>\n",
       "      <th>2</th>\n",
       "      <td>2022-12-05 00:00:00</td>\n",
       "      <td>55536.315160</td>\n",
       "      <td>13409.677987</td>\n",
       "      <td>1.184083e+07</td>\n",
       "      <td>30</td>\n",
       "    </tr>\n",
       "    <tr>\n",
       "      <th>3</th>\n",
       "      <td>2023-01-05 00:00:00</td>\n",
       "      <td>57322.608128</td>\n",
       "      <td>11623.385019</td>\n",
       "      <td>1.182921e+07</td>\n",
       "      <td>31</td>\n",
       "    </tr>\n",
       "    <tr>\n",
       "      <th>4</th>\n",
       "      <td>2023-02-05 00:00:00</td>\n",
       "      <td>57266.338207</td>\n",
       "      <td>11679.654940</td>\n",
       "      <td>1.181753e+07</td>\n",
       "      <td>31</td>\n",
       "    </tr>\n",
       "  </tbody>\n",
       "</table>\n",
       "</div>"
      ],
      "text/plain": [
       "          date_payment  percent_part  general_part  body_of_credit  days\n",
       "0  2022-10-05 00:00:00  55652.484082  13293.509065    1.186575e+07    30\n",
       "1  2022-11-05 00:00:00  57443.211733  11502.781414    1.185424e+07    31\n",
       "2  2022-12-05 00:00:00  55536.315160  13409.677987    1.184083e+07    30\n",
       "3  2023-01-05 00:00:00  57322.608128  11623.385019    1.182921e+07    31\n",
       "4  2023-02-05 00:00:00  57266.338207  11679.654940    1.181753e+07    31"
      ]
     },
     "execution_count": 25,
     "metadata": {},
     "output_type": "execute_result"
    }
   ],
   "source": [
    "pd.DataFrame(res, columns = ['date_payment', 'percent_part', 'general_part', 'body_of_credit', 'days']).head()"
   ]
  },
  {
   "cell_type": "code",
   "execution_count": 10,
   "id": "25337232",
   "metadata": {
    "collapsed": true
   },
   "outputs": [
    {
     "data": {
      "text/html": [
       "<div>\n",
       "<style scoped>\n",
       "    .dataframe tbody tr th:only-of-type {\n",
       "        vertical-align: middle;\n",
       "    }\n",
       "\n",
       "    .dataframe tbody tr th {\n",
       "        vertical-align: top;\n",
       "    }\n",
       "\n",
       "    .dataframe thead th {\n",
       "        text-align: right;\n",
       "    }\n",
       "</style>\n",
       "<table border=\"1\" class=\"dataframe\">\n",
       "  <thead>\n",
       "    <tr style=\"text-align: right;\">\n",
       "      <th></th>\n",
       "      <th>country</th>\n",
       "      <th>continent</th>\n",
       "      <th>year</th>\n",
       "      <th>lifeExp</th>\n",
       "      <th>pop</th>\n",
       "      <th>gdpPercap</th>\n",
       "      <th>iso_alpha</th>\n",
       "      <th>iso_num</th>\n",
       "    </tr>\n",
       "  </thead>\n",
       "  <tbody>\n",
       "    <tr>\n",
       "      <th>11</th>\n",
       "      <td>Afghanistan</td>\n",
       "      <td>Asia</td>\n",
       "      <td>2007</td>\n",
       "      <td>43.828</td>\n",
       "      <td>31889923</td>\n",
       "      <td>974.580338</td>\n",
       "      <td>AFG</td>\n",
       "      <td>4</td>\n",
       "    </tr>\n",
       "    <tr>\n",
       "      <th>23</th>\n",
       "      <td>Albania</td>\n",
       "      <td>Europe</td>\n",
       "      <td>2007</td>\n",
       "      <td>76.423</td>\n",
       "      <td>3600523</td>\n",
       "      <td>5937.029526</td>\n",
       "      <td>ALB</td>\n",
       "      <td>8</td>\n",
       "    </tr>\n",
       "    <tr>\n",
       "      <th>35</th>\n",
       "      <td>Algeria</td>\n",
       "      <td>Africa</td>\n",
       "      <td>2007</td>\n",
       "      <td>72.301</td>\n",
       "      <td>33333216</td>\n",
       "      <td>6223.367465</td>\n",
       "      <td>DZA</td>\n",
       "      <td>12</td>\n",
       "    </tr>\n",
       "    <tr>\n",
       "      <th>47</th>\n",
       "      <td>Angola</td>\n",
       "      <td>Africa</td>\n",
       "      <td>2007</td>\n",
       "      <td>42.731</td>\n",
       "      <td>12420476</td>\n",
       "      <td>4797.231267</td>\n",
       "      <td>AGO</td>\n",
       "      <td>24</td>\n",
       "    </tr>\n",
       "    <tr>\n",
       "      <th>59</th>\n",
       "      <td>Argentina</td>\n",
       "      <td>Americas</td>\n",
       "      <td>2007</td>\n",
       "      <td>75.320</td>\n",
       "      <td>40301927</td>\n",
       "      <td>12779.379640</td>\n",
       "      <td>ARG</td>\n",
       "      <td>32</td>\n",
       "    </tr>\n",
       "    <tr>\n",
       "      <th>71</th>\n",
       "      <td>Australia</td>\n",
       "      <td>Oceania</td>\n",
       "      <td>2007</td>\n",
       "      <td>81.235</td>\n",
       "      <td>20434176</td>\n",
       "      <td>34435.367440</td>\n",
       "      <td>AUS</td>\n",
       "      <td>36</td>\n",
       "    </tr>\n",
       "    <tr>\n",
       "      <th>83</th>\n",
       "      <td>Austria</td>\n",
       "      <td>Europe</td>\n",
       "      <td>2007</td>\n",
       "      <td>79.829</td>\n",
       "      <td>8199783</td>\n",
       "      <td>36126.492700</td>\n",
       "      <td>AUT</td>\n",
       "      <td>40</td>\n",
       "    </tr>\n",
       "    <tr>\n",
       "      <th>95</th>\n",
       "      <td>Bahrain</td>\n",
       "      <td>Asia</td>\n",
       "      <td>2007</td>\n",
       "      <td>75.635</td>\n",
       "      <td>708573</td>\n",
       "      <td>29796.048340</td>\n",
       "      <td>BHR</td>\n",
       "      <td>48</td>\n",
       "    </tr>\n",
       "    <tr>\n",
       "      <th>107</th>\n",
       "      <td>Bangladesh</td>\n",
       "      <td>Asia</td>\n",
       "      <td>2007</td>\n",
       "      <td>64.062</td>\n",
       "      <td>150448339</td>\n",
       "      <td>1391.253792</td>\n",
       "      <td>BGD</td>\n",
       "      <td>50</td>\n",
       "    </tr>\n",
       "    <tr>\n",
       "      <th>119</th>\n",
       "      <td>Belgium</td>\n",
       "      <td>Europe</td>\n",
       "      <td>2007</td>\n",
       "      <td>79.441</td>\n",
       "      <td>10392226</td>\n",
       "      <td>33692.605080</td>\n",
       "      <td>BEL</td>\n",
       "      <td>56</td>\n",
       "    </tr>\n",
       "    <tr>\n",
       "      <th>131</th>\n",
       "      <td>Benin</td>\n",
       "      <td>Africa</td>\n",
       "      <td>2007</td>\n",
       "      <td>56.728</td>\n",
       "      <td>8078314</td>\n",
       "      <td>1441.284873</td>\n",
       "      <td>BEN</td>\n",
       "      <td>204</td>\n",
       "    </tr>\n",
       "    <tr>\n",
       "      <th>143</th>\n",
       "      <td>Bolivia</td>\n",
       "      <td>Americas</td>\n",
       "      <td>2007</td>\n",
       "      <td>65.554</td>\n",
       "      <td>9119152</td>\n",
       "      <td>3822.137084</td>\n",
       "      <td>BOL</td>\n",
       "      <td>68</td>\n",
       "    </tr>\n",
       "    <tr>\n",
       "      <th>155</th>\n",
       "      <td>Bosnia and Herzegovina</td>\n",
       "      <td>Europe</td>\n",
       "      <td>2007</td>\n",
       "      <td>74.852</td>\n",
       "      <td>4552198</td>\n",
       "      <td>7446.298803</td>\n",
       "      <td>BIH</td>\n",
       "      <td>70</td>\n",
       "    </tr>\n",
       "    <tr>\n",
       "      <th>167</th>\n",
       "      <td>Botswana</td>\n",
       "      <td>Africa</td>\n",
       "      <td>2007</td>\n",
       "      <td>50.728</td>\n",
       "      <td>1639131</td>\n",
       "      <td>12569.851770</td>\n",
       "      <td>BWA</td>\n",
       "      <td>72</td>\n",
       "    </tr>\n",
       "    <tr>\n",
       "      <th>179</th>\n",
       "      <td>Brazil</td>\n",
       "      <td>Americas</td>\n",
       "      <td>2007</td>\n",
       "      <td>72.390</td>\n",
       "      <td>190010647</td>\n",
       "      <td>9065.800825</td>\n",
       "      <td>BRA</td>\n",
       "      <td>76</td>\n",
       "    </tr>\n",
       "    <tr>\n",
       "      <th>191</th>\n",
       "      <td>Bulgaria</td>\n",
       "      <td>Europe</td>\n",
       "      <td>2007</td>\n",
       "      <td>73.005</td>\n",
       "      <td>7322858</td>\n",
       "      <td>10680.792820</td>\n",
       "      <td>BGR</td>\n",
       "      <td>100</td>\n",
       "    </tr>\n",
       "    <tr>\n",
       "      <th>203</th>\n",
       "      <td>Burkina Faso</td>\n",
       "      <td>Africa</td>\n",
       "      <td>2007</td>\n",
       "      <td>52.295</td>\n",
       "      <td>14326203</td>\n",
       "      <td>1217.032994</td>\n",
       "      <td>BFA</td>\n",
       "      <td>854</td>\n",
       "    </tr>\n",
       "    <tr>\n",
       "      <th>215</th>\n",
       "      <td>Burundi</td>\n",
       "      <td>Africa</td>\n",
       "      <td>2007</td>\n",
       "      <td>49.580</td>\n",
       "      <td>8390505</td>\n",
       "      <td>430.070692</td>\n",
       "      <td>BDI</td>\n",
       "      <td>108</td>\n",
       "    </tr>\n",
       "    <tr>\n",
       "      <th>227</th>\n",
       "      <td>Cambodia</td>\n",
       "      <td>Asia</td>\n",
       "      <td>2007</td>\n",
       "      <td>59.723</td>\n",
       "      <td>14131858</td>\n",
       "      <td>1713.778686</td>\n",
       "      <td>KHM</td>\n",
       "      <td>116</td>\n",
       "    </tr>\n",
       "    <tr>\n",
       "      <th>239</th>\n",
       "      <td>Cameroon</td>\n",
       "      <td>Africa</td>\n",
       "      <td>2007</td>\n",
       "      <td>50.430</td>\n",
       "      <td>17696293</td>\n",
       "      <td>2042.095240</td>\n",
       "      <td>CMR</td>\n",
       "      <td>120</td>\n",
       "    </tr>\n",
       "    <tr>\n",
       "      <th>251</th>\n",
       "      <td>Canada</td>\n",
       "      <td>Americas</td>\n",
       "      <td>2007</td>\n",
       "      <td>80.653</td>\n",
       "      <td>33390141</td>\n",
       "      <td>36319.235010</td>\n",
       "      <td>CAN</td>\n",
       "      <td>124</td>\n",
       "    </tr>\n",
       "    <tr>\n",
       "      <th>263</th>\n",
       "      <td>Central African Republic</td>\n",
       "      <td>Africa</td>\n",
       "      <td>2007</td>\n",
       "      <td>44.741</td>\n",
       "      <td>4369038</td>\n",
       "      <td>706.016537</td>\n",
       "      <td>CAF</td>\n",
       "      <td>140</td>\n",
       "    </tr>\n",
       "    <tr>\n",
       "      <th>275</th>\n",
       "      <td>Chad</td>\n",
       "      <td>Africa</td>\n",
       "      <td>2007</td>\n",
       "      <td>50.651</td>\n",
       "      <td>10238807</td>\n",
       "      <td>1704.063724</td>\n",
       "      <td>TCD</td>\n",
       "      <td>148</td>\n",
       "    </tr>\n",
       "    <tr>\n",
       "      <th>287</th>\n",
       "      <td>Chile</td>\n",
       "      <td>Americas</td>\n",
       "      <td>2007</td>\n",
       "      <td>78.553</td>\n",
       "      <td>16284741</td>\n",
       "      <td>13171.638850</td>\n",
       "      <td>CHL</td>\n",
       "      <td>152</td>\n",
       "    </tr>\n",
       "    <tr>\n",
       "      <th>299</th>\n",
       "      <td>China</td>\n",
       "      <td>Asia</td>\n",
       "      <td>2007</td>\n",
       "      <td>72.961</td>\n",
       "      <td>1318683096</td>\n",
       "      <td>4959.114854</td>\n",
       "      <td>CHN</td>\n",
       "      <td>156</td>\n",
       "    </tr>\n",
       "    <tr>\n",
       "      <th>311</th>\n",
       "      <td>Colombia</td>\n",
       "      <td>Americas</td>\n",
       "      <td>2007</td>\n",
       "      <td>72.889</td>\n",
       "      <td>44227550</td>\n",
       "      <td>7006.580419</td>\n",
       "      <td>COL</td>\n",
       "      <td>170</td>\n",
       "    </tr>\n",
       "    <tr>\n",
       "      <th>323</th>\n",
       "      <td>Comoros</td>\n",
       "      <td>Africa</td>\n",
       "      <td>2007</td>\n",
       "      <td>65.152</td>\n",
       "      <td>710960</td>\n",
       "      <td>986.147879</td>\n",
       "      <td>COM</td>\n",
       "      <td>174</td>\n",
       "    </tr>\n",
       "    <tr>\n",
       "      <th>335</th>\n",
       "      <td>Congo, Dem. Rep.</td>\n",
       "      <td>Africa</td>\n",
       "      <td>2007</td>\n",
       "      <td>46.462</td>\n",
       "      <td>64606759</td>\n",
       "      <td>277.551859</td>\n",
       "      <td>COD</td>\n",
       "      <td>180</td>\n",
       "    </tr>\n",
       "    <tr>\n",
       "      <th>347</th>\n",
       "      <td>Congo, Rep.</td>\n",
       "      <td>Africa</td>\n",
       "      <td>2007</td>\n",
       "      <td>55.322</td>\n",
       "      <td>3800610</td>\n",
       "      <td>3632.557798</td>\n",
       "      <td>COG</td>\n",
       "      <td>178</td>\n",
       "    </tr>\n",
       "    <tr>\n",
       "      <th>359</th>\n",
       "      <td>Costa Rica</td>\n",
       "      <td>Americas</td>\n",
       "      <td>2007</td>\n",
       "      <td>78.782</td>\n",
       "      <td>4133884</td>\n",
       "      <td>9645.061420</td>\n",
       "      <td>CRI</td>\n",
       "      <td>188</td>\n",
       "    </tr>\n",
       "  </tbody>\n",
       "</table>\n",
       "</div>"
      ],
      "text/plain": [
       "                      country continent  year  lifeExp         pop  \\\n",
       "11                Afghanistan      Asia  2007   43.828    31889923   \n",
       "23                    Albania    Europe  2007   76.423     3600523   \n",
       "35                    Algeria    Africa  2007   72.301    33333216   \n",
       "47                     Angola    Africa  2007   42.731    12420476   \n",
       "59                  Argentina  Americas  2007   75.320    40301927   \n",
       "71                  Australia   Oceania  2007   81.235    20434176   \n",
       "83                    Austria    Europe  2007   79.829     8199783   \n",
       "95                    Bahrain      Asia  2007   75.635      708573   \n",
       "107                Bangladesh      Asia  2007   64.062   150448339   \n",
       "119                   Belgium    Europe  2007   79.441    10392226   \n",
       "131                     Benin    Africa  2007   56.728     8078314   \n",
       "143                   Bolivia  Americas  2007   65.554     9119152   \n",
       "155    Bosnia and Herzegovina    Europe  2007   74.852     4552198   \n",
       "167                  Botswana    Africa  2007   50.728     1639131   \n",
       "179                    Brazil  Americas  2007   72.390   190010647   \n",
       "191                  Bulgaria    Europe  2007   73.005     7322858   \n",
       "203              Burkina Faso    Africa  2007   52.295    14326203   \n",
       "215                   Burundi    Africa  2007   49.580     8390505   \n",
       "227                  Cambodia      Asia  2007   59.723    14131858   \n",
       "239                  Cameroon    Africa  2007   50.430    17696293   \n",
       "251                    Canada  Americas  2007   80.653    33390141   \n",
       "263  Central African Republic    Africa  2007   44.741     4369038   \n",
       "275                      Chad    Africa  2007   50.651    10238807   \n",
       "287                     Chile  Americas  2007   78.553    16284741   \n",
       "299                     China      Asia  2007   72.961  1318683096   \n",
       "311                  Colombia  Americas  2007   72.889    44227550   \n",
       "323                   Comoros    Africa  2007   65.152      710960   \n",
       "335          Congo, Dem. Rep.    Africa  2007   46.462    64606759   \n",
       "347               Congo, Rep.    Africa  2007   55.322     3800610   \n",
       "359                Costa Rica  Americas  2007   78.782     4133884   \n",
       "\n",
       "        gdpPercap iso_alpha  iso_num  \n",
       "11     974.580338       AFG        4  \n",
       "23    5937.029526       ALB        8  \n",
       "35    6223.367465       DZA       12  \n",
       "47    4797.231267       AGO       24  \n",
       "59   12779.379640       ARG       32  \n",
       "71   34435.367440       AUS       36  \n",
       "83   36126.492700       AUT       40  \n",
       "95   29796.048340       BHR       48  \n",
       "107   1391.253792       BGD       50  \n",
       "119  33692.605080       BEL       56  \n",
       "131   1441.284873       BEN      204  \n",
       "143   3822.137084       BOL       68  \n",
       "155   7446.298803       BIH       70  \n",
       "167  12569.851770       BWA       72  \n",
       "179   9065.800825       BRA       76  \n",
       "191  10680.792820       BGR      100  \n",
       "203   1217.032994       BFA      854  \n",
       "215    430.070692       BDI      108  \n",
       "227   1713.778686       KHM      116  \n",
       "239   2042.095240       CMR      120  \n",
       "251  36319.235010       CAN      124  \n",
       "263    706.016537       CAF      140  \n",
       "275   1704.063724       TCD      148  \n",
       "287  13171.638850       CHL      152  \n",
       "299   4959.114854       CHN      156  \n",
       "311   7006.580419       COL      170  \n",
       "323    986.147879       COM      174  \n",
       "335    277.551859       COD      180  \n",
       "347   3632.557798       COG      178  \n",
       "359   9645.061420       CRI      188  "
      ]
     },
     "execution_count": 10,
     "metadata": {},
     "output_type": "execute_result"
    }
   ],
   "source": [
    "# imports\n",
    "import plotly.express as px\n",
    "import pandas as pd\n",
    "\n",
    "# dataframe\n",
    "df = px.data.gapminder()\n",
    "df=df.query(\"year==2007\")\n",
    "df.head(30)"
   ]
  },
  {
   "cell_type": "code",
   "execution_count": 14,
   "id": "3f658307",
   "metadata": {},
   "outputs": [
    {
     "data": {
      "text/plain": [
       "'Afghanistan'"
      ]
     },
     "execution_count": 14,
     "metadata": {},
     "output_type": "execute_result"
    }
   ],
   "source": [
    "df.iloc[0, 0]"
   ]
  },
  {
   "cell_type": "code",
   "execution_count": 88,
   "id": "adcdf8f3",
   "metadata": {},
   "outputs": [
    {
     "data": {
      "text/plain": [
       "24.0"
      ]
     },
     "execution_count": 88,
     "metadata": {},
     "output_type": "execute_result"
    }
   ],
   "source": [
    "6 * (20/5)"
   ]
  },
  {
   "cell_type": "code",
   "execution_count": 92,
   "id": "d1283ede",
   "metadata": {},
   "outputs": [],
   "source": [
    "r = 5.7\n",
    "nop = 306\n",
    "mr = r / 12 / 100\n",
    "gr = (1 + mr) ** nop\n",
    "mp = 68945.99\n",
    "bc = 11879039"
   ]
  },
  {
   "cell_type": "code",
   "execution_count": 97,
   "id": "3fff2d50",
   "metadata": {},
   "outputs": [
    {
     "name": "stdout",
     "output_type": "stream",
     "text": [
      "1.1102074411078564e-05 0.81840053714509\n"
     ]
    }
   ],
   "source": [
    "print(((((1+mr)**nop)-1)/((1+mr)**nop)/mp), (bc*mr)/mp)"
   ]
  }
 ],
 "metadata": {
  "kernelspec": {
   "display_name": "Python 3 (ipykernel)",
   "language": "python",
   "name": "python3"
  },
  "language_info": {
   "codemirror_mode": {
    "name": "ipython",
    "version": 3
   },
   "file_extension": ".py",
   "mimetype": "text/x-python",
   "name": "python",
   "nbconvert_exporter": "python",
   "pygments_lexer": "ipython3",
   "version": "3.8.10"
  }
 },
 "nbformat": 4,
 "nbformat_minor": 5
}
